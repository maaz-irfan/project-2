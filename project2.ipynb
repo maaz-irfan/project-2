{
  "nbformat": 4,
  "nbformat_minor": 0,
  "metadata": {
    "colab": {
      "provenance": [],
      "authorship_tag": "ABX9TyMpRTjEbmkKs576lDLr9tnU",
      "include_colab_link": true
    },
    "kernelspec": {
      "name": "python3",
      "display_name": "Python 3"
    },
    "language_info": {
      "name": "python"
    }
  },
  "cells": [
    {
      "cell_type": "markdown",
      "metadata": {
        "id": "view-in-github",
        "colab_type": "text"
      },
      "source": [
        "<a href=\"https://colab.research.google.com/github/maaz-irfan/project-2/blob/main/project2.ipynb\" target=\"_parent\"><img src=\"https://colab.research.google.com/assets/colab-badge.svg\" alt=\"Open In Colab\"/></a>"
      ]
    },
    {
      "cell_type": "code",
      "execution_count": 2,
      "metadata": {
        "colab": {
          "base_uri": "https://localhost:8080/"
        },
        "id": "1J0DkDjI8jjt",
        "outputId": "acabb153-a91b-4e39-ba8b-44510b58b2d0"
      },
      "outputs": [
        {
          "output_type": "stream",
          "name": "stdout",
          "text": [
            "Enter your number (0-5): 1\n",
            "Your guess is too low. Try again!\n",
            "Enter your number (0-5): 2\n",
            "Your guess is too low. Try again!\n",
            "Enter your number (0-5): 3\n",
            "Your guess is too low. Try again!\n",
            "Enter your number (0-5): 4\n",
            "Congratulations! You guessed the correct number.\n"
          ]
        }
      ],
      "source": [
        "import random\n",
        "\n",
        "cnumber = random.randint(0, 5)  # Random number between 0 and 5\n",
        "\n",
        "while True:\n",
        "    userinput = int(input(\"Enter your number (0-5): \"))\n",
        "\n",
        "    if userinput > cnumber:\n",
        "        print(\"Your guess is too high. Try again!\")\n",
        "    elif userinput < cnumber:\n",
        "        print(\"Your guess is too low. Try again!\")\n",
        "    else:\n",
        "        print(\"Congratulations! You guessed the correct number.\")\n",
        "        break\n"
      ]
    }
  ]
}