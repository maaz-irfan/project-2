{
  "nbformat": 4,
  "nbformat_minor": 0,
  "metadata": {
    "colab": {
      "provenance": [],
      "authorship_tag": "ABX9TyNB7p2IZ/htNa1U8s5IpqLD",
      "include_colab_link": true
    },
    "kernelspec": {
      "name": "python3",
      "display_name": "Python 3"
    },
    "language_info": {
      "name": "python"
    }
  },
  "cells": [
    {
      "cell_type": "markdown",
      "metadata": {
        "id": "view-in-github",
        "colab_type": "text"
      },
      "source": [
        "<a href=\"https://colab.research.google.com/github/maaz-irfan/project-2/blob/main/project2.ipynb\" target=\"_parent\"><img src=\"https://colab.research.google.com/assets/colab-badge.svg\" alt=\"Open In Colab\"/></a>"
      ]
    },
    {
      "cell_type": "code",
      "execution_count": 8,
      "metadata": {
        "colab": {
          "base_uri": "https://localhost:8080/"
        },
        "id": "1J0DkDjI8jjt",
        "outputId": "8650be18-bcc0-4fd1-d399-6ee3ee004d67"
      },
      "outputs": [
        {
          "output_type": "stream",
          "name": "stdout",
          "text": [
            "enter your number:---3\n",
            "your guess is too equal\n"
          ]
        }
      ],
      "source": [
        "# project no:2\n",
        "#guess the number game\n",
        "\n",
        "import random\n",
        "cnumber=random.randrange(6)\n",
        "userinput=int(input(\"enter your number:---\"))\n",
        "if userinput>cnumber:\n",
        "    print(\"your guess number is too high\")\n",
        "elif cnumber>userinput:\n",
        "     print(\"your guess number is too low\")\n",
        "else:\n",
        "    print(\"your guess is too equal\")"
      ]
    }
  ]
}